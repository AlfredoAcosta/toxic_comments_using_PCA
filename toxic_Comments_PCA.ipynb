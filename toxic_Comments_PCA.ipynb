{
  "nbformat": 4,
  "nbformat_minor": 0,
  "metadata": {
    "colab": {
      "name": "toxic_Comments_PCA.ipynb",
      "provenance": []
    },
    "kernelspec": {
      "name": "python3",
      "display_name": "Python 3"
    },
    "accelerator": "GPU"
  },
  "cells": [
    {
      "cell_type": "markdown",
      "metadata": {
        "id": "gFH7jbQREgKm"
      },
      "source": [
        "**Toxic Comments predictive model based on a Neural Network and Principal Components Analysis**"
      ]
    },
    {
      "cell_type": "markdown",
      "metadata": {
        "id": "YnLdCeJ6_U0z"
      },
      "source": [
        "This project is made using a dataset of comments from Wikipedia’s talk page edits (avaible on https://www.kaggle.com/c/jigsaw-toxic-comment-classification-challenge). The model presented here is capable of detecting different types of of toxicity like threats, obscenity, insults, and identity-based hate. To reduce de dimensionality of the dataset i use a technique known as 'PCA'. Also a comparation between using this technique or not it's presented."
      ]
    },
    {
      "cell_type": "markdown",
      "metadata": {
        "id": "KaEtiY-9-IW6"
      },
      "source": [
        "### Importing useful libraries\n"
      ]
    },
    {
      "cell_type": "code",
      "metadata": {
        "id": "a5_hadj1TYyW"
      },
      "source": [
        "import numpy as np\n",
        "import matplotlib.pyplot as plt\n",
        "%matplotlib inline\n",
        "import pandas as pd\n",
        "import seaborn as sns"
      ],
      "execution_count": null,
      "outputs": []
    },
    {
      "cell_type": "markdown",
      "metadata": {
        "id": "ZjwFtFbFx23V"
      },
      "source": [
        "###Loading the dataset"
      ]
    },
    {
      "cell_type": "code",
      "metadata": {
        "id": "uBOqNpevlaoW"
      },
      "source": [
        "# google drive\n",
        "!pip install -U -q PyDrive\n",
        "from pydrive.auth import GoogleAuth\n",
        "from pydrive.drive import GoogleDrive\n",
        "from google.colab import auth\n",
        "from oauth2client.client import GoogleCredentials"
      ],
      "execution_count": null,
      "outputs": []
    },
    {
      "cell_type": "code",
      "metadata": {
        "id": "zivRDYhvlZ4T"
      },
      "source": [
        "# Verify account\n",
        "auth.authenticate_user()\n",
        "gauth = GoogleAuth()\n",
        "gauth.credentials = GoogleCredentials.get_application_default()\n",
        "drive = GoogleDrive(gauth)"
      ],
      "execution_count": null,
      "outputs": []
    },
    {
      "cell_type": "code",
      "metadata": {
        "id": "d5uYSgGIl0xz"
      },
      "source": [
        "#ID to obtain \"toxic_train\" (I only going to work with this dataset at moment to verify the accuracy of model)\n",
        "downloaded = drive.CreateFile({'id':'1r6ahWncTbMnSkXfIFzSwnFHHLWa_G2JQ'}) \n",
        "downloaded.GetContentFile('toxic_train.csv') \n",
        "train = pd.read_csv('toxic_train.csv')"
      ],
      "execution_count": null,
      "outputs": []
    },
    {
      "cell_type": "markdown",
      "metadata": {
        "id": "rGekViGiGU7R"
      },
      "source": [
        "### Basic information of dataset"
      ]
    },
    {
      "cell_type": "code",
      "metadata": {
        "id": "JH9ui8CKvchP",
        "colab": {
          "base_uri": "https://localhost:8080/"
        },
        "outputId": "1f667712-63ce-487c-db83-edb25fed0c4e"
      },
      "source": [
        "train.shape"
      ],
      "execution_count": null,
      "outputs": [
        {
          "output_type": "execute_result",
          "data": {
            "text/plain": [
              "(159571, 8)"
            ]
          },
          "metadata": {
            "tags": []
          },
          "execution_count": 5
        }
      ]
    },
    {
      "cell_type": "code",
      "metadata": {
        "id": "ZBpZruAevlI_"
      },
      "source": [
        "num_data=5000 # This is for make a model with a small dataset and not satured the RAM avaible here in google colab."
      ],
      "execution_count": null,
      "outputs": []
    },
    {
      "cell_type": "code",
      "metadata": {
        "id": "OnKBfYbFv4I2",
        "colab": {
          "base_uri": "https://localhost:8080/"
        },
        "outputId": "80a68d0b-97b1-40b5-c1c8-3530da7a1494"
      },
      "source": [
        "train.columns"
      ],
      "execution_count": null,
      "outputs": [
        {
          "output_type": "execute_result",
          "data": {
            "text/plain": [
              "Index(['id', 'comment_text', 'toxic', 'severe_toxic', 'obscene', 'threat',\n",
              "       'insult', 'identity_hate'],\n",
              "      dtype='object')"
            ]
          },
          "metadata": {
            "tags": []
          },
          "execution_count": 7
        }
      ]
    },
    {
      "cell_type": "code",
      "metadata": {
        "id": "Wi0YKlyfxTTl",
        "colab": {
          "base_uri": "https://localhost:8080/",
          "height": 112
        },
        "outputId": "47800ad4-c7db-4ac7-b9fe-29d2ab6a2630"
      },
      "source": [
        "train.head(2)"
      ],
      "execution_count": null,
      "outputs": [
        {
          "output_type": "execute_result",
          "data": {
            "text/html": [
              "<div>\n",
              "<style scoped>\n",
              "    .dataframe tbody tr th:only-of-type {\n",
              "        vertical-align: middle;\n",
              "    }\n",
              "\n",
              "    .dataframe tbody tr th {\n",
              "        vertical-align: top;\n",
              "    }\n",
              "\n",
              "    .dataframe thead th {\n",
              "        text-align: right;\n",
              "    }\n",
              "</style>\n",
              "<table border=\"1\" class=\"dataframe\">\n",
              "  <thead>\n",
              "    <tr style=\"text-align: right;\">\n",
              "      <th></th>\n",
              "      <th>id</th>\n",
              "      <th>comment_text</th>\n",
              "      <th>toxic</th>\n",
              "      <th>severe_toxic</th>\n",
              "      <th>obscene</th>\n",
              "      <th>threat</th>\n",
              "      <th>insult</th>\n",
              "      <th>identity_hate</th>\n",
              "    </tr>\n",
              "  </thead>\n",
              "  <tbody>\n",
              "    <tr>\n",
              "      <th>0</th>\n",
              "      <td>0000997932d777bf</td>\n",
              "      <td>Explanation\\nWhy the edits made under my usern...</td>\n",
              "      <td>0</td>\n",
              "      <td>0</td>\n",
              "      <td>0</td>\n",
              "      <td>0</td>\n",
              "      <td>0</td>\n",
              "      <td>0</td>\n",
              "    </tr>\n",
              "    <tr>\n",
              "      <th>1</th>\n",
              "      <td>000103f0d9cfb60f</td>\n",
              "      <td>D'aww! He matches this background colour I'm s...</td>\n",
              "      <td>0</td>\n",
              "      <td>0</td>\n",
              "      <td>0</td>\n",
              "      <td>0</td>\n",
              "      <td>0</td>\n",
              "      <td>0</td>\n",
              "    </tr>\n",
              "  </tbody>\n",
              "</table>\n",
              "</div>"
            ],
            "text/plain": [
              "                 id  ... identity_hate\n",
              "0  0000997932d777bf  ...             0\n",
              "1  000103f0d9cfb60f  ...             0\n",
              "\n",
              "[2 rows x 8 columns]"
            ]
          },
          "metadata": {
            "tags": []
          },
          "execution_count": 8
        }
      ]
    },
    {
      "cell_type": "markdown",
      "metadata": {
        "id": "HF82H5lox8Ze"
      },
      "source": [
        "### Preparing dataset"
      ]
    },
    {
      "cell_type": "code",
      "metadata": {
        "id": "kZ8mWVkUyCeX"
      },
      "source": [
        "labels=['toxic', 'severe_toxic', 'obscene', 'threat',\n",
        "       'insult', 'identity_hate']\n",
        "y=train[labels][:num_data]"
      ],
      "execution_count": null,
      "outputs": []
    },
    {
      "cell_type": "code",
      "metadata": {
        "id": "pmls5e6KyFNU"
      },
      "source": [
        "comments=train['comment_text'][:num_data]"
      ],
      "execution_count": null,
      "outputs": []
    },
    {
      "cell_type": "code",
      "metadata": {
        "id": "WlZNPl9I50tL",
        "colab": {
          "base_uri": "https://localhost:8080/",
          "height": 53
        },
        "outputId": "ed931b2c-cdca-4d24-aee0-714f320e3ddc"
      },
      "source": [
        "comments[0] # Jus an example of only a single comment"
      ],
      "execution_count": null,
      "outputs": [
        {
          "output_type": "execute_result",
          "data": {
            "application/vnd.google.colaboratory.intrinsic+json": {
              "type": "string"
            },
            "text/plain": [
              "\"Explanation\\nWhy the edits made under my username Hardcore Metallica Fan were reverted? They weren't vandalisms, just closure on some GAs after I voted at New York Dolls FAC. And please don't remove the template from the talk page since I'm retired now.89.205.38.27\""
            ]
          },
          "metadata": {
            "tags": []
          },
          "execution_count": 11
        }
      ]
    },
    {
      "cell_type": "markdown",
      "metadata": {
        "id": "jChbmW3u6SM6"
      },
      "source": [
        "### Cleaning dataset"
      ]
    },
    {
      "cell_type": "code",
      "metadata": {
        "id": "eayAh9Aw__9v",
        "colab": {
          "base_uri": "https://localhost:8080/"
        },
        "outputId": "c3d7007d-7b4f-495c-ebc7-4e01ffdb8955"
      },
      "source": [
        "import nltk\n",
        "nltk.download('stopwords')\n",
        "# To remove words just as 'the','of','on'\n",
        "from nltk.corpus import stopwords\n",
        "# Regular expressions managing\n",
        "import re"
      ],
      "execution_count": null,
      "outputs": [
        {
          "output_type": "stream",
          "text": [
            "[nltk_data] Downloading package stopwords to /root/nltk_data...\n",
            "[nltk_data]   Unzipping corpora/stopwords.zip.\n"
          ],
          "name": "stdout"
        }
      ]
    },
    {
      "cell_type": "code",
      "metadata": {
        "id": "fMc7_MFZ6YqJ"
      },
      "source": [
        "def clean_text(text, remove_stopwords=True):\n",
        "  output=\"\"\n",
        "  text=str(text).replace(\"\\n\",\" \")\n",
        "  # Unicode characters remove\n",
        "  text=re.sub(r'[^\\w\\s]','',text).lower()\n",
        "  text=re.sub(r'[^a-z ]','',text)\n",
        "\n",
        "  if remove_stopwords:\n",
        "    text=text.split(\" \")\n",
        "    for word in text:\n",
        "      if word not in stopwords.words(\"english\"):\n",
        "        output=output + \" \" + word\n",
        "  else:\n",
        "    output=text\n",
        "  return str(output.strip()).replace(\" \",\" \")"
      ],
      "execution_count": null,
      "outputs": []
    },
    {
      "cell_type": "code",
      "metadata": {
        "id": "clUcbunv6XjH"
      },
      "source": [
        "# text contains the same dataset but with the 'cleaned' information\n",
        "text = []\n",
        "for line in comments:\n",
        "  text.append(clean_text(line))"
      ],
      "execution_count": null,
      "outputs": []
    },
    {
      "cell_type": "code",
      "metadata": {
        "id": "1H-QamWrAgQ7",
        "colab": {
          "base_uri": "https://localhost:8080/",
          "height": 53
        },
        "outputId": "b3d50126-9e01-4112-b7fc-8283dbd74d41"
      },
      "source": [
        "comments[0] # Before"
      ],
      "execution_count": null,
      "outputs": [
        {
          "output_type": "execute_result",
          "data": {
            "application/vnd.google.colaboratory.intrinsic+json": {
              "type": "string"
            },
            "text/plain": [
              "\"Explanation\\nWhy the edits made under my username Hardcore Metallica Fan were reverted? They weren't vandalisms, just closure on some GAs after I voted at New York Dolls FAC. And please don't remove the template from the talk page since I'm retired now.89.205.38.27\""
            ]
          },
          "metadata": {
            "tags": []
          },
          "execution_count": 15
        }
      ]
    },
    {
      "cell_type": "code",
      "metadata": {
        "id": "028WtZ937Iho",
        "colab": {
          "base_uri": "https://localhost:8080/",
          "height": 53
        },
        "outputId": "80895b71-6bed-447f-a929-0e93b26c2a10"
      },
      "source": [
        "text[0] # After"
      ],
      "execution_count": null,
      "outputs": [
        {
          "output_type": "execute_result",
          "data": {
            "application/vnd.google.colaboratory.intrinsic+json": {
              "type": "string"
            },
            "text/plain": [
              "'explanation edits made username hardcore metallica fan reverted werent vandalisms closure gas voted new york dolls fac please dont remove template talk page since im retired'"
            ]
          },
          "metadata": {
            "tags": []
          },
          "execution_count": 16
        }
      ]
    },
    {
      "cell_type": "markdown",
      "metadata": {
        "id": "28Cj-wrwBAQ8"
      },
      "source": [
        "### Categorical transformation of text"
      ]
    },
    {
      "cell_type": "code",
      "metadata": {
        "id": "RoUXV5uxBJ_B"
      },
      "source": [
        "from sklearn.feature_extraction.text import CountVectorizer # To generate a sparse matrix"
      ],
      "execution_count": null,
      "outputs": []
    },
    {
      "cell_type": "code",
      "metadata": {
        "id": "A1vVdutlBJ3I"
      },
      "source": [
        "vectorizer=CountVectorizer()\n",
        "X=vectorizer.fit_transform(text)"
      ],
      "execution_count": null,
      "outputs": []
    },
    {
      "cell_type": "code",
      "metadata": {
        "id": "OMO8c8NtBdZb",
        "colab": {
          "base_uri": "https://localhost:8080/"
        },
        "outputId": "cd0a726a-809b-4f23-efca-b3098f7b2e4e"
      },
      "source": [
        "X"
      ],
      "execution_count": null,
      "outputs": [
        {
          "output_type": "execute_result",
          "data": {
            "text/plain": [
              "<5000x24808 sparse matrix of type '<class 'numpy.int64'>'\n",
              "\twith 138960 stored elements in Compressed Sparse Row format>"
            ]
          },
          "metadata": {
            "tags": []
          },
          "execution_count": 19
        }
      ]
    },
    {
      "cell_type": "markdown",
      "metadata": {
        "id": "PBfFffZhBf8B"
      },
      "source": [
        "The dimension of 'text' is now: 24808. Let's train this dataset without dimensionality reduction (PCA)."
      ]
    },
    {
      "cell_type": "markdown",
      "metadata": {
        "id": "ELdrmVjeD4zS"
      },
      "source": [
        "### Training and testing dataset\n",
        "\n"
      ]
    },
    {
      "cell_type": "code",
      "metadata": {
        "id": "YZDNJj4lEADZ"
      },
      "source": [
        "from sklearn.model_selection import train_test_split\n",
        "X_train, X_test, y_train, y_test = train_test_split(X, y, test_size = 0.2, random_state = 10)"
      ],
      "execution_count": null,
      "outputs": []
    },
    {
      "cell_type": "code",
      "metadata": {
        "id": "ft5fvhKnD_p5",
        "colab": {
          "base_uri": "https://localhost:8080/"
        },
        "outputId": "8325c460-f06b-45b0-f7e5-15fe82ff34e9"
      },
      "source": [
        "X_train.shape,X_test.shape,y_train.shape,y_test.shape"
      ],
      "execution_count": null,
      "outputs": [
        {
          "output_type": "execute_result",
          "data": {
            "text/plain": [
              "((4000, 24808), (1000, 24808), (4000, 6), (1000, 6))"
            ]
          },
          "metadata": {
            "tags": []
          },
          "execution_count": 21
        }
      ]
    },
    {
      "cell_type": "markdown",
      "metadata": {
        "id": "tCHHhBLCCV0U"
      },
      "source": [
        "### Standardization"
      ]
    },
    {
      "cell_type": "code",
      "metadata": {
        "id": "beeDxM45CaQ6"
      },
      "source": [
        "from sklearn.preprocessing import MinMaxScaler, StandardScaler"
      ],
      "execution_count": null,
      "outputs": []
    },
    {
      "cell_type": "code",
      "metadata": {
        "id": "zizgEW5NCaEV"
      },
      "source": [
        "sc_X =  StandardScaler(with_mean=False) # Neccesary to call the StandarScaler funcion with this argument\n",
        "X_train = sc_X.fit_transform(X_train)\n",
        "X_test = sc_X.transform(X_test)"
      ],
      "execution_count": null,
      "outputs": []
    },
    {
      "cell_type": "markdown",
      "metadata": {
        "id": "f7Z1qQFiLxkx"
      },
      "source": [
        "### Validation and testing dataset"
      ]
    },
    {
      "cell_type": "code",
      "metadata": {
        "id": "ee2iUtQFLvuh"
      },
      "source": [
        "X_test, X_valid, y_test, y_valid = train_test_split(X_test,y_test,test_size=0.2,random_state=10)"
      ],
      "execution_count": null,
      "outputs": []
    },
    {
      "cell_type": "markdown",
      "metadata": {
        "id": "jaT-NxB9MNsw"
      },
      "source": [
        "### Neural Network"
      ]
    },
    {
      "cell_type": "code",
      "metadata": {
        "id": "b79vfVVWMEzu"
      },
      "source": [
        "import tensorflow as tf\n",
        "from tensorflow import keras\n",
        "from tensorflow.keras import layers\n",
        "from keras.layers import Dense, Activation\n",
        "from keras.models import Sequential"
      ],
      "execution_count": null,
      "outputs": []
    },
    {
      "cell_type": "code",
      "metadata": {
        "id": "AOutX8exMoAu"
      },
      "source": [
        "model1 = Sequential()\n",
        "model1.add(Dense(2000,input_dim=X_train.shape[1],activation='sigmoid'))\n",
        "model1.add(Dense(1400,activation='relu'))\n",
        "model1.add(Dense(600,activation='relu'))\n",
        "model1.add(Dense(y.shape[1],activation='sigmoid'))\n",
        "model1.compile(optimizer='Adam',loss='binary_crossentropy',metrics=['accuracy'])"
      ],
      "execution_count": null,
      "outputs": []
    },
    {
      "cell_type": "code",
      "metadata": {
        "id": "q0h9_CtNPi1t"
      },
      "source": [
        "y_train = np.asarray(y_train)\n",
        "y_valid = np.asarray(y_valid)"
      ],
      "execution_count": null,
      "outputs": []
    },
    {
      "cell_type": "code",
      "metadata": {
        "id": "Zi1Cir3wNHDA",
        "colab": {
          "base_uri": "https://localhost:8080/"
        },
        "outputId": "1ad724ea-3bdb-43ba-b825-7a83a123fc21"
      },
      "source": [
        "history=model1.fit(X_train,y_train,batch_size=32,epochs=50,validation_data=(X_valid,y_valid))"
      ],
      "execution_count": null,
      "outputs": [
        {
          "output_type": "stream",
          "text": [
            "Epoch 1/50\n",
            "125/125 [==============================] - 2s 12ms/step - loss: 1.9486e-07 - accuracy: 0.1515 - val_loss: 0.4513 - val_accuracy: 0.3450\n",
            "Epoch 2/50\n",
            "125/125 [==============================] - 2s 12ms/step - loss: 1.7657e-07 - accuracy: 0.1507 - val_loss: 0.4538 - val_accuracy: 0.3450\n",
            "Epoch 3/50\n",
            "125/125 [==============================] - 1s 12ms/step - loss: 1.6043e-07 - accuracy: 0.1507 - val_loss: 0.4571 - val_accuracy: 0.3450\n",
            "Epoch 4/50\n",
            "125/125 [==============================] - 1s 12ms/step - loss: 1.4767e-07 - accuracy: 0.1535 - val_loss: 0.4592 - val_accuracy: 0.3450\n",
            "Epoch 5/50\n",
            "125/125 [==============================] - 2s 12ms/step - loss: 1.3259e-07 - accuracy: 0.1532 - val_loss: 0.4619 - val_accuracy: 0.3400\n",
            "Epoch 6/50\n",
            "125/125 [==============================] - 2s 12ms/step - loss: 1.2091e-07 - accuracy: 0.1560 - val_loss: 0.4639 - val_accuracy: 0.3500\n",
            "Epoch 7/50\n",
            "125/125 [==============================] - 1s 12ms/step - loss: 1.0801e-07 - accuracy: 0.1567 - val_loss: 0.4666 - val_accuracy: 0.3450\n",
            "Epoch 8/50\n",
            "125/125 [==============================] - 1s 12ms/step - loss: 9.9535e-08 - accuracy: 0.1600 - val_loss: 0.4691 - val_accuracy: 0.3500\n",
            "Epoch 9/50\n",
            "125/125 [==============================] - 1s 12ms/step - loss: 8.9692e-08 - accuracy: 0.1602 - val_loss: 0.4713 - val_accuracy: 0.3500\n",
            "Epoch 10/50\n",
            "125/125 [==============================] - 1s 12ms/step - loss: 8.3028e-08 - accuracy: 0.1585 - val_loss: 0.4735 - val_accuracy: 0.3550\n",
            "Epoch 11/50\n",
            "125/125 [==============================] - 2s 12ms/step - loss: 7.6082e-08 - accuracy: 0.1628 - val_loss: 0.4759 - val_accuracy: 0.3550\n",
            "Epoch 12/50\n",
            "125/125 [==============================] - 2s 12ms/step - loss: 6.9605e-08 - accuracy: 0.1630 - val_loss: 0.4782 - val_accuracy: 0.3550\n",
            "Epoch 13/50\n",
            "125/125 [==============================] - 2s 12ms/step - loss: 6.3624e-08 - accuracy: 0.1640 - val_loss: 0.4803 - val_accuracy: 0.3500\n",
            "Epoch 14/50\n",
            "125/125 [==============================] - 2s 12ms/step - loss: 5.8664e-08 - accuracy: 0.1622 - val_loss: 0.4824 - val_accuracy: 0.3550\n",
            "Epoch 15/50\n",
            "125/125 [==============================] - 2s 12ms/step - loss: 5.4026e-08 - accuracy: 0.1650 - val_loss: 0.4841 - val_accuracy: 0.3550\n",
            "Epoch 16/50\n",
            "125/125 [==============================] - 2s 12ms/step - loss: 4.9914e-08 - accuracy: 0.1653 - val_loss: 0.4858 - val_accuracy: 0.3550\n",
            "Epoch 17/50\n",
            "125/125 [==============================] - 2s 12ms/step - loss: 4.6267e-08 - accuracy: 0.1645 - val_loss: 0.4882 - val_accuracy: 0.3650\n",
            "Epoch 18/50\n",
            "125/125 [==============================] - 2s 12ms/step - loss: 4.2897e-08 - accuracy: 0.1673 - val_loss: 0.4906 - val_accuracy: 0.3650\n",
            "Epoch 19/50\n",
            "125/125 [==============================] - 2s 12ms/step - loss: 4.0007e-08 - accuracy: 0.1673 - val_loss: 0.4925 - val_accuracy: 0.3700\n",
            "Epoch 20/50\n",
            "125/125 [==============================] - 1s 12ms/step - loss: 3.7252e-08 - accuracy: 0.1705 - val_loss: 0.4942 - val_accuracy: 0.3700\n",
            "Epoch 21/50\n",
            "125/125 [==============================] - 1s 12ms/step - loss: 3.4617e-08 - accuracy: 0.1660 - val_loss: 0.4958 - val_accuracy: 0.3650\n",
            "Epoch 22/50\n",
            "125/125 [==============================] - 1s 12ms/step - loss: 3.2146e-08 - accuracy: 0.1680 - val_loss: 0.4978 - val_accuracy: 0.3650\n",
            "Epoch 23/50\n",
            "125/125 [==============================] - 2s 12ms/step - loss: 3.0327e-08 - accuracy: 0.1695 - val_loss: 0.4995 - val_accuracy: 0.3650\n",
            "Epoch 24/50\n",
            "125/125 [==============================] - 1s 12ms/step - loss: 2.8154e-08 - accuracy: 0.1685 - val_loss: 0.5014 - val_accuracy: 0.3650\n",
            "Epoch 25/50\n",
            "125/125 [==============================] - 1s 12ms/step - loss: 2.6533e-08 - accuracy: 0.1690 - val_loss: 0.5029 - val_accuracy: 0.3650\n",
            "Epoch 26/50\n",
            "125/125 [==============================] - 1s 12ms/step - loss: 2.4774e-08 - accuracy: 0.1695 - val_loss: 0.5052 - val_accuracy: 0.3650\n",
            "Epoch 27/50\n",
            "125/125 [==============================] - 2s 12ms/step - loss: 2.3151e-08 - accuracy: 0.1695 - val_loss: 0.5071 - val_accuracy: 0.3650\n",
            "Epoch 28/50\n",
            "125/125 [==============================] - 1s 12ms/step - loss: 2.1845e-08 - accuracy: 0.1705 - val_loss: 0.5087 - val_accuracy: 0.3650\n",
            "Epoch 29/50\n",
            "125/125 [==============================] - 1s 12ms/step - loss: 2.0599e-08 - accuracy: 0.1725 - val_loss: 0.5099 - val_accuracy: 0.3650\n",
            "Epoch 30/50\n",
            "125/125 [==============================] - 1s 12ms/step - loss: 1.9346e-08 - accuracy: 0.1682 - val_loss: 0.5118 - val_accuracy: 0.3650\n",
            "Epoch 31/50\n",
            "125/125 [==============================] - 2s 12ms/step - loss: 1.8206e-08 - accuracy: 0.1715 - val_loss: 0.5135 - val_accuracy: 0.3650\n",
            "Epoch 32/50\n",
            "125/125 [==============================] - 2s 12ms/step - loss: 1.7155e-08 - accuracy: 0.1717 - val_loss: 0.5156 - val_accuracy: 0.3650\n",
            "Epoch 33/50\n",
            "125/125 [==============================] - 2s 12ms/step - loss: 1.6255e-08 - accuracy: 0.1710 - val_loss: 0.5170 - val_accuracy: 0.3650\n",
            "Epoch 34/50\n",
            "125/125 [==============================] - 1s 12ms/step - loss: 1.5285e-08 - accuracy: 0.1717 - val_loss: 0.5179 - val_accuracy: 0.3650\n",
            "Epoch 35/50\n",
            "125/125 [==============================] - 1s 12ms/step - loss: 1.4383e-08 - accuracy: 0.1713 - val_loss: 0.5200 - val_accuracy: 0.3600\n",
            "Epoch 36/50\n",
            "125/125 [==============================] - 2s 12ms/step - loss: 1.3295e-08 - accuracy: 0.1715 - val_loss: 0.5220 - val_accuracy: 0.3600\n",
            "Epoch 37/50\n",
            "125/125 [==============================] - 2s 12ms/step - loss: 1.2731e-08 - accuracy: 0.1720 - val_loss: 0.5236 - val_accuracy: 0.3600\n",
            "Epoch 38/50\n",
            "125/125 [==============================] - 1s 12ms/step - loss: 1.1921e-08 - accuracy: 0.1692 - val_loss: 0.5251 - val_accuracy: 0.3550\n",
            "Epoch 39/50\n",
            "125/125 [==============================] - 2s 12ms/step - loss: 1.1379e-08 - accuracy: 0.1690 - val_loss: 0.5268 - val_accuracy: 0.3550\n",
            "Epoch 40/50\n",
            "125/125 [==============================] - 2s 12ms/step - loss: 1.0689e-08 - accuracy: 0.1698 - val_loss: 0.5283 - val_accuracy: 0.3550\n",
            "Epoch 41/50\n",
            "125/125 [==============================] - 1s 12ms/step - loss: 1.0113e-08 - accuracy: 0.1715 - val_loss: 0.5299 - val_accuracy: 0.3550\n",
            "Epoch 42/50\n",
            "125/125 [==============================] - 1s 12ms/step - loss: 9.5746e-09 - accuracy: 0.1710 - val_loss: 0.5312 - val_accuracy: 0.3550\n",
            "Epoch 43/50\n",
            "125/125 [==============================] - 2s 12ms/step - loss: 8.9399e-09 - accuracy: 0.1688 - val_loss: 0.5328 - val_accuracy: 0.3550\n",
            "Epoch 44/50\n",
            "125/125 [==============================] - 2s 12ms/step - loss: 8.5389e-09 - accuracy: 0.1673 - val_loss: 0.5344 - val_accuracy: 0.3550\n",
            "Epoch 45/50\n",
            "125/125 [==============================] - 2s 12ms/step - loss: 8.1880e-09 - accuracy: 0.1688 - val_loss: 0.5357 - val_accuracy: 0.3550\n",
            "Epoch 46/50\n",
            "125/125 [==============================] - 2s 12ms/step - loss: 7.6960e-09 - accuracy: 0.1695 - val_loss: 0.5372 - val_accuracy: 0.3550\n",
            "Epoch 47/50\n",
            "125/125 [==============================] - 1s 12ms/step - loss: 7.3109e-09 - accuracy: 0.1667 - val_loss: 0.5386 - val_accuracy: 0.3550\n",
            "Epoch 48/50\n",
            "125/125 [==============================] - 2s 12ms/step - loss: 6.9883e-09 - accuracy: 0.1710 - val_loss: 0.5399 - val_accuracy: 0.3550\n",
            "Epoch 49/50\n",
            "125/125 [==============================] - 1s 12ms/step - loss: 6.6135e-09 - accuracy: 0.1702 - val_loss: 0.5415 - val_accuracy: 0.3550\n",
            "Epoch 50/50\n",
            "125/125 [==============================] - 1s 12ms/step - loss: 6.2473e-09 - accuracy: 0.1695 - val_loss: 0.5431 - val_accuracy: 0.3550\n"
          ],
          "name": "stdout"
        }
      ]
    },
    {
      "cell_type": "code",
      "metadata": {
        "colab": {
          "base_uri": "https://localhost:8080/",
          "height": 279
        },
        "id": "g5JxaNpVTxh-",
        "outputId": "633aeb80-55f6-485a-96fc-b8fff923a929"
      },
      "source": [
        "plt.plot(history.history['accuracy'],color='b',label='train')\n",
        "plt.plot(history.history['val_accuracy'],color='r',label='validation ')\n",
        "plt.xlabel('epochs')\n",
        "plt.ylabel('accuracy')\n",
        "plt.legend()\n",
        "plt.show()"
      ],
      "execution_count": null,
      "outputs": [
        {
          "output_type": "display_data",
          "data": {
            "image/png": "[encoded data removed]",
            "text/plain": [
              "<Figure size 432x288 with 1 Axes>"
            ]
          },
          "metadata": {
            "tags": [],
            "needs_background": "light"
          }
        }
      ]
    },
    {
      "cell_type": "code",
      "metadata": {
        "colab": {
          "base_uri": "https://localhost:8080/",
          "height": 279
        },
        "id": "jQTr0CtBT0Fg",
        "outputId": "1555a4b9-c273-42db-dae9-663315a5a45f"
      },
      "source": [
        "plt.plot(history.history['loss'],color='b',label='train')\n",
        "plt.plot(history.history['val_loss'],color='r',label='validation ')\n",
        "plt.xlabel('epochs')\n",
        "plt.ylabel('accuracy')\n",
        "plt.legend()\n",
        "plt.show()"
      ],
      "execution_count": null,
      "outputs": [
        {
          "output_type": "display_data",
          "data": {
            "image/png": "[encoded data removed]",
            "text/plain": [
              "<Figure size 432x288 with 1 Axes>"
            ]
          },
          "metadata": {
            "tags": [],
            "needs_background": "light"
          }
        }
      ]
    },
    {
      "cell_type": "markdown",
      "metadata": {
        "id": "Auk5AmlvL__t"
      },
      "source": [
        "### Evaluation of the model without using PCA"
      ]
    },
    {
      "cell_type": "code",
      "metadata": {
        "id": "4t0fYxmzez4j"
      },
      "source": [
        "y_test=y_test.values"
      ],
      "execution_count": null,
      "outputs": []
    },
    {
      "cell_type": "code",
      "metadata": {
        "id": "Ub9jD-xHgW5M"
      },
      "source": [
        "y_pred=model1.predict(X_test)"
      ],
      "execution_count": null,
      "outputs": []
    },
    {
      "cell_type": "code",
      "metadata": {
        "id": "L13PVnoAfbRp"
      },
      "source": [
        "from sklearn.metrics import confusion_matrix"
      ],
      "execution_count": null,
      "outputs": []
    },
    {
      "cell_type": "code",
      "metadata": {
        "id": "GyExslMUeJ5Y",
        "colab": {
          "base_uri": "https://localhost:8080/"
        },
        "outputId": "446234df-83da-43a0-cb4b-74cedbb8cfa5"
      },
      "source": [
        "for i in range(y_test.shape[1]):\n",
        "  cm=confusion_matrix(y_test[:,i],y_pred[:,i]>0.5)\n",
        "  print(labels[i],'\\n',cm,'\\n')"
      ],
      "execution_count": null,
      "outputs": [
        {
          "output_type": "stream",
          "text": [
            "toxic \n",
            " [[700  10]\n",
            " [ 44  46]] \n",
            "\n",
            "severe_toxic \n",
            " [[786   5]\n",
            " [  6   3]] \n",
            "\n",
            "obscene \n",
            " [[751   2]\n",
            " [ 19  28]] \n",
            "\n",
            "threat \n",
            " [[797   1]\n",
            " [  2   0]] \n",
            "\n",
            "insult \n",
            " [[745   5]\n",
            " [ 26  24]] \n",
            "\n",
            "identity_hate \n",
            " [[790   2]\n",
            " [  6   2]] \n",
            "\n"
          ],
          "name": "stdout"
        }
      ]
    },
    {
      "cell_type": "markdown",
      "metadata": {
        "id": "FRFksRBCicnC"
      },
      "source": [
        "## Same model but using PCA"
      ]
    },
    {
      "cell_type": "code",
      "metadata": {
        "id": "V5GwtYVQjjTM"
      },
      "source": [
        "from sklearn.decomposition import PCA"
      ],
      "execution_count": null,
      "outputs": []
    },
    {
      "cell_type": "code",
      "metadata": {
        "id": "nuCn0irVkAWc"
      },
      "source": [
        "pca = PCA(0.9)"
      ],
      "execution_count": null,
      "outputs": []
    },
    {
      "cell_type": "code",
      "metadata": {
        "id": "JPhiQZF5kChv"
      },
      "source": [
        "X_pca = pca.fit_transform(X.toarray())"
      ],
      "execution_count": null,
      "outputs": []
    },
    {
      "cell_type": "code",
      "metadata": {
        "colab": {
          "base_uri": "https://localhost:8080/"
        },
        "id": "Gnp079cKSjd4",
        "outputId": "93c58014-2337-4aa9-9042-0568f0ba8c0c"
      },
      "source": [
        "X_pca.shape"
      ],
      "execution_count": null,
      "outputs": [
        {
          "output_type": "execute_result",
          "data": {
            "text/plain": [
              "(5000, 323)"
            ]
          },
          "metadata": {
            "tags": []
          },
          "execution_count": 41
        }
      ]
    },
    {
      "cell_type": "markdown",
      "metadata": {
        "id": "_WOpGeu4Sobq"
      },
      "source": [
        "Now i have 323 features instead of 24808!"
      ]
    },
    {
      "cell_type": "markdown",
      "metadata": {
        "id": "egY6UdwVv8q4"
      },
      "source": [
        "### Training and testing dataset"
      ]
    },
    {
      "cell_type": "code",
      "metadata": {
        "id": "IERl5YImv7VH"
      },
      "source": [
        "from sklearn.model_selection import train_test_split\n",
        "X_train, X_test, y_train, y_test = train_test_split(X_pca, y, test_size = 0.2, random_state = 10)"
      ],
      "execution_count": null,
      "outputs": []
    },
    {
      "cell_type": "code",
      "metadata": {
        "id": "i2Fim1zsv7c2",
        "colab": {
          "base_uri": "https://localhost:8080/"
        },
        "outputId": "df575973-4275-4db7-d8da-9f12b20d4407"
      },
      "source": [
        "X_train.shape,X_test.shape,y_train.shape,y_test.shape"
      ],
      "execution_count": null,
      "outputs": [
        {
          "output_type": "execute_result",
          "data": {
            "text/plain": [
              "((4000, 323), (1000, 323), (4000, 6), (1000, 6))"
            ]
          },
          "metadata": {
            "tags": []
          },
          "execution_count": 43
        }
      ]
    },
    {
      "cell_type": "markdown",
      "metadata": {
        "id": "a97JO3VGw3f-"
      },
      "source": [
        "#### Standardization"
      ]
    },
    {
      "cell_type": "code",
      "metadata": {
        "id": "mz0jCwmmOKqW"
      },
      "source": [
        "sc_X =  StandardScaler(with_mean=False) \n",
        "X_train = sc_X.fit_transform(X_train)\n",
        "X_test = sc_X.transform(X_test)"
      ],
      "execution_count": null,
      "outputs": []
    },
    {
      "cell_type": "markdown",
      "metadata": {
        "id": "CINLCse50N04"
      },
      "source": [
        "#### Validation and testing dataset"
      ]
    },
    {
      "cell_type": "code",
      "metadata": {
        "id": "TcpQff030My1"
      },
      "source": [
        "X_test, X_valid, y_test, y_valid = train_test_split(X_test,y_test,test_size=0.2,random_state=10)"
      ],
      "execution_count": null,
      "outputs": []
    },
    {
      "cell_type": "markdown",
      "metadata": {
        "id": "uxdXSmusvNYQ"
      },
      "source": [
        "#### Neural Network"
      ]
    },
    {
      "cell_type": "code",
      "metadata": {
        "id": "rANfydiuvim3"
      },
      "source": [
        "model2 = Sequential()\n",
        "model2.add(Dense(2000,input_dim=X_train.shape[1],activation='sigmoid'))\n",
        "model2.add(Dense(1400,activation='relu'))\n",
        "model2.add(Dense(600,activation='relu'))\n",
        "model2.add(Dense(y.shape[1],activation='sigmoid'))\n",
        "model2.compile(optimizer='Adam',loss='binary_crossentropy',metrics=['accuracy'])"
      ],
      "execution_count": null,
      "outputs": []
    },
    {
      "cell_type": "code",
      "metadata": {
        "id": "NwxuMlcv06iy"
      },
      "source": [
        "y_train = np.asarray(y_train)\n",
        "y_valid = np.asarray(y_valid)"
      ],
      "execution_count": null,
      "outputs": []
    },
    {
      "cell_type": "code",
      "metadata": {
        "id": "kxctqhlu1NHa",
        "colab": {
          "base_uri": "https://localhost:8080/"
        },
        "outputId": "e488448f-ea9d-4667-a961-0aeb57fa5cc0"
      },
      "source": [
        "history2=model2.fit(X_train,y_train,batch_size=32,epochs=50,validation_data=(X_valid,y_valid))"
      ],
      "execution_count": null,
      "outputs": [
        {
          "output_type": "stream",
          "text": [
            "Epoch 1/50\n",
            "125/125 [==============================] - 1s 4ms/step - loss: 0.2685 - accuracy: 0.5026 - val_loss: 0.1378 - val_accuracy: 0.9700\n",
            "Epoch 2/50\n",
            "125/125 [==============================] - 0s 3ms/step - loss: 0.1074 - accuracy: 0.7949 - val_loss: 0.1129 - val_accuracy: 0.9900\n",
            "Epoch 3/50\n",
            "125/125 [==============================] - 0s 3ms/step - loss: 0.0945 - accuracy: 0.9148 - val_loss: 0.1125 - val_accuracy: 0.9850\n",
            "Epoch 4/50\n",
            "125/125 [==============================] - 0s 3ms/step - loss: 0.0947 - accuracy: 0.8667 - val_loss: 0.1109 - val_accuracy: 0.9900\n",
            "Epoch 5/50\n",
            "125/125 [==============================] - 0s 3ms/step - loss: 0.0863 - accuracy: 0.9042 - val_loss: 0.1001 - val_accuracy: 0.9900\n",
            "Epoch 6/50\n",
            "125/125 [==============================] - 0s 3ms/step - loss: 0.0896 - accuracy: 0.9290 - val_loss: 0.1027 - val_accuracy: 0.9750\n",
            "Epoch 7/50\n",
            "125/125 [==============================] - 0s 3ms/step - loss: 0.0779 - accuracy: 0.9426 - val_loss: 0.1029 - val_accuracy: 0.4150\n",
            "Epoch 8/50\n",
            "125/125 [==============================] - 0s 3ms/step - loss: 0.0815 - accuracy: 0.8577 - val_loss: 0.0984 - val_accuracy: 0.9500\n",
            "Epoch 9/50\n",
            "125/125 [==============================] - 0s 3ms/step - loss: 0.0711 - accuracy: 0.8795 - val_loss: 0.1021 - val_accuracy: 0.9050\n",
            "Epoch 10/50\n",
            "125/125 [==============================] - 0s 3ms/step - loss: 0.0698 - accuracy: 0.9023 - val_loss: 0.1023 - val_accuracy: 0.9900\n",
            "Epoch 11/50\n",
            "125/125 [==============================] - 0s 3ms/step - loss: 0.0686 - accuracy: 0.9066 - val_loss: 0.1012 - val_accuracy: 0.9400\n",
            "Epoch 12/50\n",
            "125/125 [==============================] - 0s 3ms/step - loss: 0.0702 - accuracy: 0.9119 - val_loss: 0.0945 - val_accuracy: 0.9550\n",
            "Epoch 13/50\n",
            "125/125 [==============================] - 0s 3ms/step - loss: 0.0625 - accuracy: 0.8883 - val_loss: 0.1066 - val_accuracy: 0.9100\n",
            "Epoch 14/50\n",
            "125/125 [==============================] - 0s 3ms/step - loss: 0.0625 - accuracy: 0.9421 - val_loss: 0.1040 - val_accuracy: 0.9050\n",
            "Epoch 15/50\n",
            "125/125 [==============================] - 0s 3ms/step - loss: 0.0614 - accuracy: 0.9151 - val_loss: 0.1136 - val_accuracy: 0.9650\n",
            "Epoch 16/50\n",
            "125/125 [==============================] - 0s 3ms/step - loss: 0.0586 - accuracy: 0.8954 - val_loss: 0.1353 - val_accuracy: 0.9500\n",
            "Epoch 17/50\n",
            "125/125 [==============================] - 0s 3ms/step - loss: 0.0571 - accuracy: 0.8652 - val_loss: 0.1090 - val_accuracy: 0.9000\n",
            "Epoch 18/50\n",
            "125/125 [==============================] - 0s 3ms/step - loss: 0.0505 - accuracy: 0.8953 - val_loss: 0.1173 - val_accuracy: 0.9850\n",
            "Epoch 19/50\n",
            "125/125 [==============================] - 0s 3ms/step - loss: 0.0602 - accuracy: 0.9355 - val_loss: 0.1255 - val_accuracy: 0.9600\n",
            "Epoch 20/50\n",
            "125/125 [==============================] - 0s 3ms/step - loss: 0.0513 - accuracy: 0.8712 - val_loss: 0.1217 - val_accuracy: 0.9250\n",
            "Epoch 21/50\n",
            "125/125 [==============================] - 0s 3ms/step - loss: 0.0459 - accuracy: 0.9195 - val_loss: 0.1244 - val_accuracy: 0.8300\n",
            "Epoch 22/50\n",
            "125/125 [==============================] - 0s 3ms/step - loss: 0.0502 - accuracy: 0.8696 - val_loss: 0.1294 - val_accuracy: 0.9300\n",
            "Epoch 23/50\n",
            "125/125 [==============================] - 0s 3ms/step - loss: 0.0427 - accuracy: 0.9409 - val_loss: 0.1266 - val_accuracy: 0.8900\n",
            "Epoch 24/50\n",
            "125/125 [==============================] - 0s 3ms/step - loss: 0.0491 - accuracy: 0.9296 - val_loss: 0.1268 - val_accuracy: 0.7650\n",
            "Epoch 25/50\n",
            "125/125 [==============================] - 0s 3ms/step - loss: 0.0451 - accuracy: 0.8498 - val_loss: 0.1453 - val_accuracy: 0.8500\n",
            "Epoch 26/50\n",
            "125/125 [==============================] - 0s 3ms/step - loss: 0.0454 - accuracy: 0.9003 - val_loss: 0.1345 - val_accuracy: 0.8700\n",
            "Epoch 27/50\n",
            "125/125 [==============================] - 0s 3ms/step - loss: 0.0416 - accuracy: 0.8654 - val_loss: 0.1394 - val_accuracy: 0.9400\n",
            "Epoch 28/50\n",
            "125/125 [==============================] - 0s 3ms/step - loss: 0.0373 - accuracy: 0.9149 - val_loss: 0.1417 - val_accuracy: 0.8900\n",
            "Epoch 29/50\n",
            "125/125 [==============================] - 0s 3ms/step - loss: 0.0319 - accuracy: 0.9015 - val_loss: 0.1491 - val_accuracy: 0.9450\n",
            "Epoch 30/50\n",
            "125/125 [==============================] - 0s 3ms/step - loss: 0.0359 - accuracy: 0.9345 - val_loss: 0.1724 - val_accuracy: 0.9550\n",
            "Epoch 31/50\n",
            "125/125 [==============================] - 0s 3ms/step - loss: 0.0362 - accuracy: 0.9422 - val_loss: 0.1520 - val_accuracy: 0.9000\n",
            "Epoch 32/50\n",
            "125/125 [==============================] - 0s 3ms/step - loss: 0.0333 - accuracy: 0.9166 - val_loss: 0.1791 - val_accuracy: 0.8350\n",
            "Epoch 33/50\n",
            "125/125 [==============================] - 0s 3ms/step - loss: 0.0392 - accuracy: 0.8502 - val_loss: 0.1690 - val_accuracy: 0.8750\n",
            "Epoch 34/50\n",
            "125/125 [==============================] - 0s 3ms/step - loss: 0.0320 - accuracy: 0.9118 - val_loss: 0.1785 - val_accuracy: 0.9100\n",
            "Epoch 35/50\n",
            "125/125 [==============================] - 0s 3ms/step - loss: 0.0293 - accuracy: 0.9177 - val_loss: 0.1884 - val_accuracy: 0.8600\n",
            "Epoch 36/50\n",
            "125/125 [==============================] - 0s 3ms/step - loss: 0.0299 - accuracy: 0.8631 - val_loss: 0.1991 - val_accuracy: 0.8950\n",
            "Epoch 37/50\n",
            "125/125 [==============================] - 0s 3ms/step - loss: 0.0312 - accuracy: 0.9090 - val_loss: 0.1901 - val_accuracy: 0.8650\n",
            "Epoch 38/50\n",
            "125/125 [==============================] - 0s 3ms/step - loss: 0.0356 - accuracy: 0.8863 - val_loss: 0.2041 - val_accuracy: 0.8850\n",
            "Epoch 39/50\n",
            "125/125 [==============================] - 0s 3ms/step - loss: 0.0370 - accuracy: 0.9266 - val_loss: 0.1922 - val_accuracy: 0.9000\n",
            "Epoch 40/50\n",
            "125/125 [==============================] - 0s 3ms/step - loss: 0.0231 - accuracy: 0.9395 - val_loss: 0.2023 - val_accuracy: 0.7800\n",
            "Epoch 41/50\n",
            "125/125 [==============================] - 0s 3ms/step - loss: 0.0276 - accuracy: 0.9023 - val_loss: 0.2133 - val_accuracy: 0.9100\n",
            "Epoch 42/50\n",
            "125/125 [==============================] - 0s 3ms/step - loss: 0.0230 - accuracy: 0.9117 - val_loss: 0.2335 - val_accuracy: 0.9150\n",
            "Epoch 43/50\n",
            "125/125 [==============================] - 0s 3ms/step - loss: 0.0210 - accuracy: 0.9109 - val_loss: 0.2112 - val_accuracy: 0.8250\n",
            "Epoch 44/50\n",
            "125/125 [==============================] - 0s 3ms/step - loss: 0.0281 - accuracy: 0.8557 - val_loss: 0.2197 - val_accuracy: 0.8450\n",
            "Epoch 45/50\n",
            "125/125 [==============================] - 0s 3ms/step - loss: 0.0204 - accuracy: 0.8875 - val_loss: 0.2255 - val_accuracy: 0.8950\n",
            "Epoch 46/50\n",
            "125/125 [==============================] - 0s 3ms/step - loss: 0.0250 - accuracy: 0.9198 - val_loss: 0.2571 - val_accuracy: 0.9600\n",
            "Epoch 47/50\n",
            "125/125 [==============================] - 0s 3ms/step - loss: 0.0235 - accuracy: 0.9154 - val_loss: 0.2636 - val_accuracy: 0.9250\n",
            "Epoch 48/50\n",
            "125/125 [==============================] - 0s 3ms/step - loss: 0.0196 - accuracy: 0.9587 - val_loss: 0.2595 - val_accuracy: 0.9050\n",
            "Epoch 49/50\n",
            "125/125 [==============================] - 0s 3ms/step - loss: 0.0206 - accuracy: 0.9043 - val_loss: 0.2475 - val_accuracy: 0.8450\n",
            "Epoch 50/50\n",
            "125/125 [==============================] - 0s 3ms/step - loss: 0.0193 - accuracy: 0.9111 - val_loss: 0.2901 - val_accuracy: 0.8950\n"
          ],
          "name": "stdout"
        }
      ]
    },
    {
      "cell_type": "code",
      "metadata": {
        "colab": {
          "base_uri": "https://localhost:8080/",
          "height": 279
        },
        "id": "D0YM5uNgTJcX",
        "outputId": "7cc56880-9f3b-4774-d94d-efb878f6b15a"
      },
      "source": [
        "plt.plot(history2.history['accuracy'],color='b',label='train')\n",
        "plt.plot(history2.history['val_accuracy'],color='r',label='validation ')\n",
        "plt.xlabel('epochs')\n",
        "plt.ylabel('accuracy')\n",
        "plt.legend()\n",
        "plt.show()"
      ],
      "execution_count": null,
      "outputs": [
        {
          "output_type": "display_data",
          "data": {
            "image/png": "[encoded data removed]",
            "text/plain": [
              "<Figure size 432x288 with 1 Axes>"
            ]
          },
          "metadata": {
            "tags": [],
            "needs_background": "light"
          }
        }
      ]
    },
    {
      "cell_type": "code",
      "metadata": {
        "colab": {
          "base_uri": "https://localhost:8080/",
          "height": 281
        },
        "id": "f5TU5Nv5Uf8o",
        "outputId": "4750def6-b0ae-4152-c774-f6ffc6359eba"
      },
      "source": [
        "plt.plot(history2.history['loss'],color='b',label='train')\n",
        "plt.plot(history2.history['val_loss'],color='r',label='validation ')\n",
        "plt.xlabel('epochs')\n",
        "plt.ylabel('accuracy')\n",
        "plt.legend()\n",
        "plt.show()"
      ],
      "execution_count": null,
      "outputs": [
        {
          "output_type": "display_data",
          "data": {
            "image/png": "[encoded data removed]",
            "text/plain": [
              "<Figure size 432x288 with 1 Axes>"
            ]
          },
          "metadata": {
            "tags": [],
            "needs_background": "light"
          }
        }
      ]
    },
    {
      "cell_type": "markdown",
      "metadata": {
        "id": "GHeVBcVJ6aYw"
      },
      "source": [
        "#### Evaluation of the model using PCA"
      ]
    },
    {
      "cell_type": "code",
      "metadata": {
        "id": "qwjk8RwO_zf1"
      },
      "source": [
        "y_test=y_test.values"
      ],
      "execution_count": null,
      "outputs": []
    },
    {
      "cell_type": "code",
      "metadata": {
        "id": "4L-bAegt1YQj",
        "colab": {
          "base_uri": "https://localhost:8080/"
        },
        "outputId": "5879d1eb-3370-439f-a7a8-becb76eb8b46"
      },
      "source": [
        "model2.evaluate(X_test,y_test)"
      ],
      "execution_count": null,
      "outputs": [
        {
          "output_type": "stream",
          "text": [
            "25/25 [==============================] - 0s 2ms/step - loss: 0.3021 - accuracy: 0.9050\n"
          ],
          "name": "stdout"
        },
        {
          "output_type": "execute_result",
          "data": {
            "text/plain": [
              "[0.3021005690097809, 0.9049999713897705]"
            ]
          },
          "metadata": {
            "tags": []
          },
          "execution_count": 57
        }
      ]
    },
    {
      "cell_type": "code",
      "metadata": {
        "id": "BUzuY4u08QR7"
      },
      "source": [
        "y_pred=model2.predict(X_test)"
      ],
      "execution_count": null,
      "outputs": []
    },
    {
      "cell_type": "code",
      "metadata": {
        "id": "zb2dKPYY6rAM",
        "colab": {
          "base_uri": "https://localhost:8080/"
        },
        "outputId": "3252e691-62cf-4ba4-9f85-aea4bf0c9193"
      },
      "source": [
        "for i in range(y_test.shape[1]):\n",
        "  cm=confusion_matrix(y_test[:,i],y_pred[:,i]>0.5)\n",
        "  print(labels[i],'\\n',cm,'\\n')"
      ],
      "execution_count": null,
      "outputs": [
        {
          "output_type": "stream",
          "text": [
            "toxic \n",
            " [[682  28]\n",
            " [ 41  49]] \n",
            "\n",
            "severe_toxic \n",
            " [[783   8]\n",
            " [  8   1]] \n",
            "\n",
            "obscene \n",
            " [[728  25]\n",
            " [ 23  24]] \n",
            "\n",
            "threat \n",
            " [[798   0]\n",
            " [  2   0]] \n",
            "\n",
            "insult \n",
            " [[730  20]\n",
            " [ 28  22]] \n",
            "\n",
            "identity_hate \n",
            " [[789   3]\n",
            " [  8   0]] \n",
            "\n"
          ],
          "name": "stdout"
        }
      ]
    },
    {
      "cell_type": "markdown",
      "metadata": {
        "id": "2Wt8LJtfVH9x"
      },
      "source": [
        "### Conclusions"
      ]
    },
    {
      "cell_type": "markdown",
      "metadata": {
        "id": "RmLMLy2-VRT2"
      },
      "source": [
        "The next figure shows that the model without using PCA it's completely a bad model, this was configured using the same hyperparameters that *model2* uses. Therefore using Principal Components Analisys allow us to work with a minimun features and increase the accuracy of a model."
      ]
    },
    {
      "cell_type": "code",
      "metadata": {
        "colab": {
          "base_uri": "https://localhost:8080/",
          "height": 279
        },
        "id": "wo4VSCKEVGJ0",
        "outputId": "09dfc676-e8d2-4568-86c1-992e00490716"
      },
      "source": [
        "plt.plot(history.history['accuracy'],color='b',label='accuracy without PCA')\n",
        "plt.plot(history2.history['accuracy'],color='g',label='accuracy with PCA')\n",
        "plt.xlabel('epochs')\n",
        "plt.ylabel('accuracy')\n",
        "plt.legend()\n",
        "plt.show()"
      ],
      "execution_count": null,
      "outputs": [
        {
          "output_type": "display_data",
          "data": {
            "image/png": "[encoded data removed]",
            "text/plain": [
              "<Figure size 432x288 with 1 Axes>"
            ]
          },
          "metadata": {
            "tags": [],
            "needs_background": "light"
          }
        }
      ]
    }
  ]
}